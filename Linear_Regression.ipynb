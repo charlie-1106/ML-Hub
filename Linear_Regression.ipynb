{
  "nbformat": 4,
  "nbformat_minor": 0,
  "metadata": {
    "colab": {
      "provenance": [],
      "mount_file_id": "1ih1A_vqaz0T4kTVIGu0sAGgi4v3rkmOj",
      "authorship_tag": "ABX9TyNf4BC+Axpe9HoWbLZj6Ssq",
      "include_colab_link": true
    },
    "kernelspec": {
      "name": "python3",
      "display_name": "Python 3"
    },
    "language_info": {
      "name": "python"
    }
  },
  "cells": [
    {
      "cell_type": "markdown",
      "metadata": {
        "id": "view-in-github",
        "colab_type": "text"
      },
      "source": [
        "<a href=\"https://colab.research.google.com/github/charlie-1106/ML-Hub/blob/main/Linear_Regression.ipynb\" target=\"_parent\"><img src=\"https://colab.research.google.com/assets/colab-badge.svg\" alt=\"Open In Colab\"/></a>"
      ]
    },
    {
      "cell_type": "code",
      "execution_count": null,
      "metadata": {
        "id": "LOD60IJOnPAz"
      },
      "outputs": [],
      "source": [
        "import numpy as np\n",
        "class Linearregression:\n",
        "  def __init__(self,lr=0.001,n_iters=1000):\n",
        "    self.lr=lr\n",
        "    self.n_iters=n_iters\n",
        "    self.weights=None\n",
        "    self.bias=None\n",
        "\n",
        "#Model Creation\n",
        "  def fit(self,X,y):\n",
        "    n_samples,n_features=X.shape\n",
        "    self.weights=np.zeros(n_features)\n",
        "    self.bias=0\n",
        "    for _ in range(self.n_iters):\n",
        "      y_pred=np.dot(X,self.weights)+self.bias #Equation= y=wX + B where w= weights and b=bias\n",
        "      dw=(1/n_samples)*np.dot(X.T,(y_pred-y)) #Gradient with respect to weights\n",
        "      db=(1/n_samples)*np.sum(y_pred-y) #Gradient with respect to bias\n",
        "      self.weights-=self.lr*dw #Weights Updation\n",
        "      self.bias-=self.lr*db #bias Updation\n",
        "\n",
        "  #Prediction\n",
        "  def predict(self,X):\n",
        "    y_pred=np.dot(X,self.weights)+self.bias\n",
        "    return y_pred"
      ]
    },
    {
      "cell_type": "code",
      "source": [
        "\n",
        "import numpy as np\n",
        "import pandas as pd\n",
        "from sklearn.model_selection import train_test_split\n",
        "from sklearn import datasets\n",
        "import matplotlib.pyplot as plt\n",
        "\n",
        "#Creating data set\n",
        "X,y=datasets.make_regression(n_samples=100,n_features=1,noise=20,random_state=4)\n",
        "X_train,X_test,y_train,y_test=train_test_split(X,y,test_size=0.2,random_state=1234)\n",
        "#Calling our custom regressor with sufficient LR\n",
        "regressor=Linearregression(lr=0.01)\n",
        "#Model Fit and Training\n",
        "regressor.fit(X_train,y_train)\n",
        "#Predictions\n",
        "predicted=regressor.predict(X_test)\n",
        "#For evaluation Using MSE\n",
        "def mse(y_test,predicted):\n",
        "  return np.mean((y_test-predicted)**2)\n",
        "mse_value=mse(y_test,predicted)\n",
        "print(mse_value)\n",
        "#Scatter Plots for Visualization\n",
        "y_predline=regressor.predict(X)\n",
        "cmap=plt.get_cmap('viridis')\n",
        "m1=plt.scatter(X_train,y_train,color=cmap(0.9),s=10)\n",
        "m2=plt.scatter(X_test,y_test,color=cmap(0.5),s=10)\n",
        "plt.plot(X,y_predline,color='black',lw=2,label='Prediction')\n",
        "plt.show()\n"
      ],
      "metadata": {
        "colab": {
          "base_uri": "https://localhost:8080/",
          "height": 449
        },
        "id": "LvQcHcnJo63j",
        "outputId": "e47927b2-d524-406e-9de8-472844bfab37"
      },
      "execution_count": null,
      "outputs": [
        {
          "output_type": "stream",
          "name": "stdout",
          "text": [
            "305.7719958301902\n"
          ]
        },
        {
          "output_type": "display_data",
          "data": {
            "text/plain": [
              "<Figure size 640x480 with 1 Axes>"
            ],
            "image/png": "[encoded data removed]"
          },
          "metadata": {}
        }
      ]
    },
    {
      "cell_type": "code",
      "source": [],
      "metadata": {
        "id": "loEhWkyqojV_"
      },
      "execution_count": null,
      "outputs": []
    },
    {
      "cell_type": "code",
      "source": [
        "\n"
      ],
      "metadata": {
        "id": "8tBSSZ3ZpFU-"
      },
      "execution_count": null,
      "outputs": []
    },
    {
      "cell_type": "code",
      "source": [
        "\n"
      ],
      "metadata": {
        "id": "FJVDK2V_pM7C"
      },
      "execution_count": null,
      "outputs": []
    },
    {
      "cell_type": "code",
      "source": [],
      "metadata": {
        "id": "hmbii3B3sg93"
      },
      "execution_count": null,
      "outputs": []
    }
  ]
}